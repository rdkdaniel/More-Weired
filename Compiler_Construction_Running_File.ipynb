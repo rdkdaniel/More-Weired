{
  "nbformat": 4,
  "nbformat_minor": 0,
  "metadata": {
    "colab": {
      "provenance": [],
      "authorship_tag": "ABX9TyP3L+KXzxDvKDSJtqC/L3Tb",
      "include_colab_link": true
    },
    "kernelspec": {
      "name": "python3",
      "display_name": "Python 3"
    },
    "language_info": {
      "name": "python"
    }
  },
  "cells": [
    {
      "cell_type": "markdown",
      "metadata": {
        "id": "view-in-github",
        "colab_type": "text"
      },
      "source": [
        "<a href=\"https://colab.research.google.com/github/rdkdaniel/More-Weired/blob/main/Compiler_Construction_Running_File.ipynb\" target=\"_parent\"><img src=\"https://colab.research.google.com/assets/colab-badge.svg\" alt=\"Open In Colab\"/></a>"
      ]
    },
    {
      "cell_type": "markdown",
      "source": [
        "# **Group Members: 1234567, 234465, 2364647, 465833, 674646**"
      ],
      "metadata": {
        "id": "0pKnr8ogXvdJ"
      }
    },
    {
      "cell_type": "markdown",
      "source": [
        "# **Lab Activity 1: Flex, Bison, Lex, Yacc**"
      ],
      "metadata": {
        "id": "TKcvclzwX8-i"
      }
    },
    {
      "cell_type": "markdown",
      "source": [
        "Flex - Blah blah (3-5 lines) (Ruiru, 2022)\n",
        "\n",
        "Bison - Blah blah (3-5 lines)\n",
        "\n",
        "Lex - Blah blah (3-5 lines)\n",
        "\n",
        "Yacc - Blah blah (3-5 lines)"
      ],
      "metadata": {
        "id": "roTynBSAYAVI"
      }
    },
    {
      "cell_type": "markdown",
      "source": [
        "Bison -"
      ],
      "metadata": {
        "id": "bXYsa41omJ30"
      }
    },
    {
      "cell_type": "code",
      "execution_count": null,
      "metadata": {
        "id": "VMGyAeCzXNqu"
      },
      "outputs": [],
      "source": [
        "#add code snippet"
      ]
    },
    {
      "cell_type": "code",
      "source": [
        "import re"
      ],
      "metadata": {
        "id": "BhfxMl38mV6y"
      },
      "execution_count": 1,
      "outputs": []
    },
    {
      "cell_type": "markdown",
      "source": [
        "**References**\n",
        "\n",
        "1. Ruiru, Daniel. (2022). Compiler Design. *Strathmore*.\n",
        "\n",
        "2.\n",
        "\n",
        "3."
      ],
      "metadata": {
        "id": "3Gtupz_XYUuB"
      }
    },
    {
      "cell_type": "markdown",
      "source": [
        "# **Lab Activity 2:**"
      ],
      "metadata": {
        "id": "AAcxQs6XYcRR"
      }
    }
  ]
}