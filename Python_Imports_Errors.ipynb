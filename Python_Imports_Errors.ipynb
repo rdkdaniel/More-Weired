{
  "nbformat": 4,
  "nbformat_minor": 0,
  "metadata": {
    "colab": {
      "provenance": [],
      "authorship_tag": "ABX9TyMPXQZawPTseOR8cMS4dJJQ",
      "include_colab_link": true
    },
    "kernelspec": {
      "name": "python3",
      "display_name": "Python 3"
    },
    "language_info": {
      "name": "python"
    }
  },
  "cells": [
    {
      "cell_type": "markdown",
      "metadata": {
        "id": "view-in-github",
        "colab_type": "text"
      },
      "source": [
        "<a href=\"https://colab.research.google.com/github/rdkdaniel/More-Weired/blob/main/Python_Imports_Errors.ipynb\" target=\"_parent\"><img src=\"https://colab.research.google.com/assets/colab-badge.svg\" alt=\"Open In Colab\"/></a>"
      ]
    },
    {
      "cell_type": "markdown",
      "source": [
        "**A Short Review of Pythin Import Errors**"
      ],
      "metadata": {
        "id": "8WRLxi-beB4j"
      }
    },
    {
      "cell_type": "markdown",
      "source": [
        "*   I experienced these errors with relative imports.\n",
        "*   In absolute imports I rarely experienced them.\n",
        "*   These errors led me to even use modules under the same packages (directory).\n",
        "*   Affecting my file organization plan.\n",
        "\n",
        "\n",
        "\n"
      ],
      "metadata": {
        "id": "X2R6mkpneGzq"
      }
    },
    {
      "cell_type": "markdown",
      "source": [
        "**Key Resources used to solve some of the errors**"
      ],
      "metadata": {
        "id": "5ksIitoEe5LK"
      }
    },
    {
      "cell_type": "code",
      "execution_count": null,
      "metadata": {
        "id": "babiJd8Xd7SE"
      },
      "outputs": [],
      "source": [
        "#https://realpython.com/absolute-vs-relative-python-imports/\n",
        "#https://github.com/surfer190/fixes/blob/master/docs/python/python-imports.md?plain=1"
      ]
    }
  ]
}